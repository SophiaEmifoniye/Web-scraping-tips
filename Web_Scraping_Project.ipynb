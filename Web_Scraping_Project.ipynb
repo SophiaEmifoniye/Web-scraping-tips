{
 "cells": [
  {
   "cell_type": "markdown",
   "metadata": {
    "id": "e0Zhuwxj6dIX"
   },
   "source": [
    "# SCRAPING SONG DATASET FROM `AZLyrics`\n",
    "\n",
    "<img src=\"https://i.imgur.com/U4BrQEd.png\" title=\"source: imgur.com\" />\n",
    "\n",
    "This notebook contains our web scraping project for group 1.\n",
    "\n",
    "Group members:\n",
    "- Gift Abah\n",
    "- Ibukunoluwa Moses\n",
    "- Abayomi-Perez Okekunle\n",
    "- Sophia Emifoniye\n",
    "\n",
    "----------------------------------------------------------------------------------------------------------------------------------------------------------------"
   ]
  },
  {
   "cell_type": "markdown",
   "metadata": {
    "id": "V4N2sBE8-5O4"
   },
   "source": [
    "> ## TASK\n",
    "\n",
    "To create a **dataset of songs and albums** that have been created by differnt artists (e.g Sam Smith, Nicki Minaj) by scraping the `AZLyrics` site: https://www.azlyrics.com/f.html\n",
    "\n",
    "The Function should be able to take any artist page and return the EPs and/or albums that the artist have released, the release date (year) and some songs on that album."
   ]
  },
  {
   "cell_type": "markdown",
   "metadata": {
    "id": "LFWaOqVp_Gj1"
   },
   "source": [
    "\n",
    "---\n",
    "\n",
    "\n",
    "\n",
    "For this dataset, we decided to collect the following information:\n",
    "\n",
    "- Name of the Artist\n",
    "- EPs or Albums that they have released\n",
    "- Year of release\n",
    "- Tracks on the album\n",
    "- Cover art (to be saved as image link) for the EP or album\n",
    "\n",
    "\n",
    "---\n",
    "\n"
   ]
  },
  {
   "cell_type": "markdown",
   "metadata": {
    "id": "XIj1HVX-Bmf6"
   },
   "source": [
    "> **OUTPUT FORMAT:** Our final export will be made into a `CSV file`"
   ]
  },
  {
   "cell_type": "markdown",
   "metadata": {
    "id": "IlvqXiRREnAK"
   },
   "source": [
    "\n",
    "\n",
    "---\n",
    "\n"
   ]
  },
  {
   "cell_type": "markdown",
   "metadata": {
    "id": "UJ3JG8ZDEow9"
   },
   "source": [
    " ### OUR CODES START HERE\n",
    "\n",
    "Here's an outline of the steps we intend to follow:\n",
    "\n",
    "1. Install the necessary libraries\n",
    "2. Use `requests` to download the webpage\n",
    "3. Use `BeautifulSoup` to parse and read the webpage\n",
    "4. Collect the necessary dataset and save it as a list of dictionaries\n",
    "5. Write a simple function that does everything\n",
    "6. Save final result as a CSV file"
   ]
  },
  {
   "cell_type": "markdown",
   "metadata": {
    "id": "P5ytVSktFvjQ"
   },
   "source": [
    "\n",
    "\n",
    "---\n",
    "\n"
   ]
  },
  {
   "cell_type": "markdown",
   "metadata": {
    "id": "vEFNzZ-k5fZm"
   },
   "source": [
    "> Step 1: Installing the necessary libraries that are needed - `requests` and `BeautifulSoup`"
   ]
  },
  {
   "cell_type": "code",
   "execution_count": 1,
   "metadata": {
    "id": "3l64z9pt5WFh"
   },
   "outputs": [],
   "source": [
    "!pip install requests --upgrade --quiet"
   ]
  },
  {
   "cell_type": "code",
   "execution_count": 2,
   "metadata": {
    "id": "rSED7ufT5ntd"
   },
   "outputs": [],
   "source": [
    "import requests"
   ]
  },
  {
   "cell_type": "code",
   "execution_count": 3,
   "metadata": {
    "id": "lmouh7-f5quq"
   },
   "outputs": [],
   "source": [
    "!pip install beautifulsoup4 --upgrade --quiet"
   ]
  },
  {
   "cell_type": "code",
   "execution_count": 4,
   "metadata": {
    "id": "oNha6K-H5wh9"
   },
   "outputs": [],
   "source": [
    "from bs4 import BeautifulSoup"
   ]
  },
  {
   "cell_type": "markdown",
   "metadata": {
    "id": "TUTtRIwO6AVy"
   },
   "source": [
    "> Getting the topic url to be scraped, `https://store.steampowered.com/genre/Free%20to%20Play/`"
   ]
  },
  {
   "cell_type": "code",
   "execution_count": 37,
   "metadata": {
    "id": "Cz9EXg2i5z9z"
   },
   "outputs": [],
   "source": [
    "topic_url = 'https://www.azlyrics.com/s/samsmith.html'\n",
    "\n",
    "#  Using requests.get to download the webpage\n",
    "\n",
    "response = requests.get(topic_url)"
   ]
  },
  {
   "cell_type": "code",
   "execution_count": 38,
   "metadata": {
    "colab": {
     "base_uri": "https://localhost:8080/"
    },
    "id": "3DR9sy916dmZ",
    "outputId": "32a584d0-13e5-493f-ca3c-cb5c30f3452e"
   },
   "outputs": [
    {
     "data": {
      "text/plain": [
       "200"
      ]
     },
     "execution_count": 38,
     "metadata": {},
     "output_type": "execute_result"
    }
   ],
   "source": [
    "# Checking to ensure that I got the response of \"200 family\"\n",
    "response.status_code\n"
   ]
  },
  {
   "cell_type": "code",
   "execution_count": 39,
   "metadata": {
    "colab": {
     "base_uri": "https://localhost:8080/"
    },
    "id": "NeJrWAe66jKD",
    "outputId": "f86a7c88-c88b-4be8-d1ee-5a9eb690d073"
   },
   "outputs": [
    {
     "data": {
      "text/plain": [
       "57787"
      ]
     },
     "execution_count": 39,
     "metadata": {},
     "output_type": "execute_result"
    }
   ],
   "source": [
    "page_content = response.text\n",
    "len(page_content)"
   ]
  },
  {
   "cell_type": "code",
   "execution_count": 40,
   "metadata": {
    "colab": {
     "base_uri": "https://localhost:8080/",
     "height": 139
    },
    "id": "KiDADpCd65GB",
    "outputId": "41764477-5ed7-4f32-e725-02be93f3d939",
    "scrolled": true
   },
   "outputs": [
    {
     "data": {
      "text/plain": [
       "'<!DOCTYPE html>\\r\\n<html lang=\"en\">\\r\\n<head>\\r\\n<meta charset=\"utf-8\">\\r\\n<meta http-equiv=\"X-UA-Compatible\" content=\"IE=edge\">\\r\\n<meta name=\"viewport\" content=\"width=device-width, initial-scale=1\">\\r\\n<!-- The above 3 meta tags *must* come first in the head; any other head content must come *after* these tags -->\\r\\n<meta name=\"description\" content=\"Sam Smith lyrics - 107 song lyrics sorted by album, including &quot;Stay With Me&quot;, &quot;I\\'m Not The Only One&quot;, &quot;Unholy&quot;.\"> \\r\\n<meta name=\"keywords\" content=\"Sam Smith, Sam Smith lyrics, discography, albums, songs\">\\r\\n<meta name=\"robots\" content=\"noarchive\">\\r\\n<title>Sam Smith Lyrics</title>\\r\\n\\r\\n<link rel=\"canonical\" href=\"https://www.azlyrics.com/s/samsmith.html\" />\\r\\n<link rel=\"stylesheet\" href=\"https://maxcdn.bootstrapcdn.com/bootstrap/3.3.4/css/bootstrap.min.css\">\\r\\n<link rel=\"stylesheet\" href=\"/local/az.css\">\\r\\n\\r\\n<!-- HTML5 shim and Respond.js for IE8 support of HTML5 elements and media queries -->\\r\\n<!--[if lt IE 9]>\\r\\n<script src=\"htt'"
      ]
     },
     "execution_count": 40,
     "metadata": {},
     "output_type": "execute_result"
    }
   ],
   "source": [
    "# Checking to be sure the webpage has been downloaded and is being read correctly\n",
    "page_content[:1001]"
   ]
  },
  {
   "cell_type": "markdown",
   "metadata": {
    "id": "U-RzEzXI_Yj8"
   },
   "source": [
    "> Parsing your code into BeautifulSoup using parsers"
   ]
  },
  {
   "cell_type": "code",
   "execution_count": 41,
   "metadata": {
    "id": "Q7OD74cU7GSM"
   },
   "outputs": [],
   "source": [
    "doc = BeautifulSoup(response.text, 'html.parser')\n",
    "# type(doc)"
   ]
  },
  {
   "cell_type": "markdown",
   "metadata": {
    "id": "XMtinx9dJBG5"
   },
   "source": [
    "> **STEP 2:** Getting the `Name of the Artist` from the `h1` tag"
   ]
  },
  {
   "cell_type": "code",
   "execution_count": 42,
   "metadata": {
    "colab": {
     "base_uri": "https://localhost:8080/",
     "height": 35
    },
    "id": "36drF6cVSgSl",
    "outputId": "9d9f7460-359c-4cd3-987b-45d7913a5556"
   },
   "outputs": [
    {
     "data": {
      "text/plain": [
       "'Sam Smith'"
      ]
     },
     "execution_count": 42,
     "metadata": {},
     "output_type": "execute_result"
    }
   ],
   "source": [
    "artist_name = doc.h1.text.strip()\n",
    "artist_name = artist_name.strip(' Lyrics')\n",
    "artist_name"
   ]
  },
  {
   "cell_type": "markdown",
   "metadata": {
    "id": "eKbCnlANCAeu"
   },
   "source": [
    "\n",
    "\n",
    "---\n",
    "\n",
    "\n",
    "> STEP 3:\n",
    "\n",
    "> Using `.find_all` to find all `div` tags that contain the class `album`\n",
    "\n",
    "\n"
   ]
  },
  {
   "cell_type": "code",
   "execution_count": 43,
   "metadata": {
    "colab": {
     "base_uri": "https://localhost:8080/",
     "height": 35
    },
    "id": "VU-oukPe_f2o",
    "outputId": "fff72106-1843-464e-ae6e-9e8002be7284"
   },
   "outputs": [
    {
     "data": {
      "text/plain": [
       "'EP: \"Nirvana\" (2013)'"
      ]
     },
     "execution_count": 43,
     "metadata": {},
     "output_type": "execute_result"
    }
   ],
   "source": [
    "list_of_albums = doc.find_all('div', class_='album')\n",
    "list_of_albums\n",
    "\n",
    "#  Trying it out to see if it works\n",
    "first_item = list_of_albums[0]\n",
    "first_item.text.strip()"
   ]
  },
  {
   "cell_type": "code",
   "execution_count": 44,
   "metadata": {
    "colab": {
     "base_uri": "https://localhost:8080/"
    },
    "id": "FZfa-uLFKZ10",
    "outputId": "014d61df-35b8-469e-d0c9-bf4b96f9a696"
   },
   "outputs": [
    {
     "data": {
      "text/plain": [
       "['EP: \"Nirvana\" (2013)',\n",
       " 'album: \"In The Lonely Hour\" (2014)',\n",
       " 'compilation: \"The Lost Tapes - Remixed\" (2015)',\n",
       " 'album: \"The Thrill Of It All\" (2017)',\n",
       " 'album: \"Love Goes\" (2020)',\n",
       " 'album: \"Gloria\" (2023)',\n",
       " 'EP: \"A Lonely Christmas\" (2023)',\n",
       " 'other songs:']"
      ]
     },
     "execution_count": 44,
     "metadata": {},
     "output_type": "execute_result"
    }
   ],
   "source": [
    "albums_and_year = []\n",
    "\n",
    "for album in list_of_albums:\n",
    "  album = album.text.strip()\n",
    "  albums_and_year.append(album)\n",
    "\n",
    "\n",
    "albums_and_year"
   ]
  },
  {
   "cell_type": "code",
   "execution_count": 45,
   "metadata": {
    "colab": {
     "base_uri": "https://localhost:8080/"
    },
    "id": "YhL78UWLdSST",
    "outputId": "448d3be3-32e7-45bc-c935-00e777edd2c3"
   },
   "outputs": [
    {
     "data": {
      "text/plain": [
       "[<img alt=\"Sam Smith - Nirvana EP cover\" class=\"album-image\" src=\"/images/albums/301/e5d75335ac015e7cdf969156da6757c1.jpg\"/>,\n",
       " <img alt=\"Sam Smith - In The Lonely Hour album cover\" class=\"album-image\" src=\"/images/albums/311/b68c5abf3224e6be1646cdf3cc654317.jpg\"/>,\n",
       " <img alt=\"Sam Smith - The Lost Tapes - Remixed compilation cover\" class=\"album-image\" src=\"/images/albums/389/a804e1c4301d624da01765e30a8d7275.jpg\"/>,\n",
       " <img alt=\"Sam Smith - The Thrill Of It All album cover\" class=\"album-image\" src=\"/images/albums/507/20be9d855606d7afd018e34e1c1e615a.jpg\"/>,\n",
       " <img alt=\"Sam Smith - Love Goes album cover\" class=\"album-image\" src=\"/images/albums/880/62f6b1bbff0c287e401b40777a009bd8.jpg\"/>,\n",
       " <img alt=\"Sam Smith - Gloria album cover\" class=\"album-image\" src=\"/images/albums/114/0f186ced50cebe5367f3b0292752513a.jpg\"/>,\n",
       " <img alt=\"Sam Smith - A Lonely Christmas EP cover\" class=\"album-image\" src=\"/images/albums/125/f2db884a31babe5c6fc6deee506b2b0d.jpg\"/>]"
      ]
     },
     "execution_count": 45,
     "metadata": {},
     "output_type": "execute_result"
    }
   ],
   "source": [
    "# @title **Step 4:** Getting the `Cover Images` of the albums\n",
    "\n",
    "album_img = doc.find_all('img', class_='album-image')\n",
    "album_img"
   ]
  },
  {
   "cell_type": "code",
   "execution_count": 46,
   "metadata": {
    "colab": {
     "base_uri": "https://localhost:8080/"
    },
    "id": "lREIEVn9daqM",
    "outputId": "aa204170-324d-44e3-ccf2-b141d5ba79e5"
   },
   "outputs": [
    {
     "data": {
      "text/plain": [
       "['https://www.azlyrics.com/images/albums/301/e5d75335ac015e7cdf969156da6757c1.jpg',\n",
       " 'https://www.azlyrics.com/images/albums/311/b68c5abf3224e6be1646cdf3cc654317.jpg',\n",
       " 'https://www.azlyrics.com/images/albums/389/a804e1c4301d624da01765e30a8d7275.jpg',\n",
       " 'https://www.azlyrics.com/images/albums/507/20be9d855606d7afd018e34e1c1e615a.jpg',\n",
       " 'https://www.azlyrics.com/images/albums/880/62f6b1bbff0c287e401b40777a009bd8.jpg',\n",
       " 'https://www.azlyrics.com/images/albums/114/0f186ced50cebe5367f3b0292752513a.jpg',\n",
       " 'https://www.azlyrics.com/images/albums/125/f2db884a31babe5c6fc6deee506b2b0d.jpg']"
      ]
     },
     "execution_count": 46,
     "metadata": {},
     "output_type": "execute_result"
    }
   ],
   "source": [
    "# Getting the Url for the img\n",
    "img_src = []\n",
    "\n",
    "for img in album_img:\n",
    "  base_url = 'https://www.azlyrics.com'\n",
    "  src = base_url + img['src']\n",
    "  img_src.append(src)\n",
    "\n",
    "img_src"
   ]
  },
  {
   "cell_type": "code",
   "execution_count": 28,
   "metadata": {
    "colab": {
     "base_uri": "https://localhost:8080/"
    },
    "id": "HHnPHTiwfr30",
    "outputId": "2782f1de-ed3f-44c4-a427-cbbd130de45d"
   },
   "outputs": [
    {
     "data": {
      "text/plain": [
       "{'Safe With Me': 'https://www.azlyrics.com/lyrics/samsmith/safewithme.html',\n",
       " 'Nirvana': 'https://www.azlyrics.com/lyrics/samsmith/nirvana.html',\n",
       " \"I've Told You Now\": 'https://www.azlyrics.com/lyrics/samsmith/ivetoldyounow.html',\n",
       " 'Latch (Acoustic)': 'https://www.azlyrics.com/lyrics/samsmith/latchacoustic.html',\n",
       " 'Money On My Mind': 'https://www.azlyrics.com/lyrics/samsmith/moneyonmymind.html',\n",
       " 'Good Thing': 'https://www.azlyrics.com/lyrics/samsmith/goodthing.html',\n",
       " 'Stay With Me': 'https://www.azlyrics.com/lyrics/samsmith/staywithme.html',\n",
       " 'Leave Your Lover': 'https://www.azlyrics.com/lyrics/samsmith/leaveyourlover.html',\n",
       " \"I'm Not The Only One\": 'https://www.azlyrics.com/lyrics/samsmith/imnottheonlyone.html',\n",
       " 'Like I Can': 'https://www.azlyrics.com/lyrics/samsmith/likeican.html',\n",
       " 'Life Support': 'https://www.azlyrics.com/lyrics/samsmith/lifesupport.html',\n",
       " 'Not In That Way': 'https://www.azlyrics.com/lyrics/samsmith/notinthatway.html',\n",
       " 'Lay Me Down': 'https://www.azlyrics.com/lyrics/samsmith/laymedown.html',\n",
       " 'Restart': 'https://www.azlyrics.com/lyrics/samsmith/restart.html',\n",
       " 'La La La': 'https://www.azlyrics.comhttps://www.azlyrics.com/lyrics/naughtyboy/lalala.html',\n",
       " 'Reminds Me Of You': 'https://www.azlyrics.com/lyrics/samsmith/remindsmeofyou.html',\n",
       " 'Make It To Me': 'https://www.azlyrics.com/lyrics/samsmith/makeittome.html',\n",
       " 'In The Lonely Hour': 'https://www.azlyrics.com/lyrics/samsmith/inthelonelyhour.html',\n",
       " 'Drowning Shadows': 'https://www.azlyrics.com/lyrics/samsmith/drowningshadows.html',\n",
       " 'Love Is A Losing Game': 'https://www.azlyrics.com/lyrics/samsmith/loveisalosinggame.html',\n",
       " 'How Will I Know': 'https://www.azlyrics.com/lyrics/samsmith/howwilliknow.html',\n",
       " 'Omen': 'https://www.azlyrics.comhttps://www.azlyrics.com/lyrics/disclosure/omen.html',\n",
       " 'Stay With Me (Remix)': 'https://www.azlyrics.com/lyrics/samsmith/staywithmeremix.html',\n",
       " \"I'm Not The Only One (Remix)\": 'https://www.azlyrics.com/lyrics/samsmith/imnottheonlyoneremix.html',\n",
       " 'Lay Me Down (Remix)': 'https://www.azlyrics.com/lyrics/samsmith/laymedownremix.html',\n",
       " 'All This Madness (Genji Yoshida Remix)': 'https://www.azlyrics.com/lyrics/samsmith/allthismadnessgenjiyoshidaremix.html',\n",
       " 'Moments (Radio Edit)': 'https://www.azlyrics.com/lyrics/samsmith/momentsradioedit.html',\n",
       " 'Out Of Our Heads (Tom Bruckner Remix)': 'https://www.azlyrics.com/lyrics/samsmith/outofourheadstombrucknerremix.html',\n",
       " 'So Much More to Lose (Pooker Remix)': 'https://www.azlyrics.com/lyrics/samsmith/somuchmoretolosepookerremix.html',\n",
       " 'Show A Little Mercy (Tai Remix)': 'https://www.azlyrics.com/lyrics/samsmith/showalittlemercytairemix.html',\n",
       " 'A Little Melancholy (Arbitraire Remix)': 'https://www.azlyrics.com/lyrics/samsmith/alittlemelancholyarbitraireremix.html',\n",
       " 'Too Good At Goodbyes': 'https://www.azlyrics.com/lyrics/samsmith/toogoodatgoodbyes.html',\n",
       " 'Say It First': 'https://www.azlyrics.com/lyrics/samsmith/sayitfirst.html',\n",
       " 'One Last Song': 'https://www.azlyrics.com/lyrics/samsmith/onelastsong.html',\n",
       " 'Midnight Train': 'https://www.azlyrics.com/lyrics/samsmith/midnighttrain.html',\n",
       " 'Burning': 'https://www.azlyrics.com/lyrics/samsmith/burning.html',\n",
       " 'HIM': 'https://www.azlyrics.com/lyrics/samsmith/him.html',\n",
       " 'Baby, You Make Me Crazy': 'https://www.azlyrics.com/lyrics/samsmith/babyyoumakemecrazy.html',\n",
       " 'No Peace': 'https://www.azlyrics.com/lyrics/samsmith/nopeace.html',\n",
       " 'Palace': 'https://www.azlyrics.com/lyrics/samsmith/palace.html',\n",
       " 'Pray': 'https://www.azlyrics.com/lyrics/samsmith/pray.html',\n",
       " 'Nothing Left For You': 'https://www.azlyrics.com/lyrics/samsmith/nothingleftforyou.html',\n",
       " 'The Thrill Of It All': 'https://www.azlyrics.com/lyrics/samsmith/thethrillofitall.html',\n",
       " 'Scars': 'https://www.azlyrics.com/lyrics/samsmith/scars.html',\n",
       " 'One Day At A Time': 'https://www.azlyrics.com/lyrics/samsmith/onedayatatime.html',\n",
       " 'Young': 'https://www.azlyrics.com/lyrics/samsmith/young.html',\n",
       " 'Diamonds': 'https://www.azlyrics.com/lyrics/samsmith/diamonds.html',\n",
       " 'Another One': 'https://www.azlyrics.com/lyrics/samsmith/anotherone.html',\n",
       " 'My Oasis': 'https://www.azlyrics.com/lyrics/samsmith/myoasis.html',\n",
       " 'So Serious': 'https://www.azlyrics.com/lyrics/samsmith/soserious.html',\n",
       " \"Dance ('Til You Love Someone Else)\": 'https://www.azlyrics.com/lyrics/samsmith/dancetilyoulovesomeoneelse.html',\n",
       " 'For The Lover That I Lost': 'https://www.azlyrics.com/lyrics/samsmith/fortheloverthatilost.html',\n",
       " 'Breaking Hearts': 'https://www.azlyrics.com/lyrics/samsmith/breakinghearts.html',\n",
       " 'Forgive Myself': 'https://www.azlyrics.com/lyrics/samsmith/forgivemyself.html',\n",
       " 'Love Goes': 'https://www.azlyrics.com/lyrics/samsmith/lovegoes.html',\n",
       " 'Kids Again': 'https://www.azlyrics.com/lyrics/samsmith/kidsagain.html',\n",
       " 'Dancing With A Stranger': 'https://www.azlyrics.com/lyrics/samsmith/dancingwithastranger.html',\n",
       " 'How Do You Sleep?': 'https://www.azlyrics.com/lyrics/samsmith/howdoyousleep.html',\n",
       " 'To Die For': 'https://www.azlyrics.com/lyrics/samsmith/todiefor.html',\n",
       " \"I'm Ready\": 'https://www.azlyrics.com/lyrics/samsmith/imready.html',\n",
       " 'Fire On Fire': 'https://www.azlyrics.com/lyrics/samsmith/fireonfire.html',\n",
       " 'Promises': 'https://www.azlyrics.comhttps://www.azlyrics.com/lyrics/calvinharris/promises.html',\n",
       " 'Sober': 'https://www.azlyrics.com/lyrics/samsmith/sober.html',\n",
       " 'Laurel Canyon': 'https://www.azlyrics.com/lyrics/samsmith/laurelcanyon.html',\n",
       " 'Love Me More': 'https://www.azlyrics.com/lyrics/samsmith/lovememore.html',\n",
       " 'No God': 'https://www.azlyrics.com/lyrics/samsmith/nogod.html',\n",
       " 'Hurting Interlude': 'https://www.azlyrics.com/lyrics/samsmith/hurtinginterlude.html',\n",
       " 'Lose You': 'https://www.azlyrics.com/lyrics/samsmith/loseyou.html',\n",
       " 'Perfect': 'https://www.azlyrics.com/lyrics/samsmith/perfect.html',\n",
       " 'Unholy': 'https://www.azlyrics.com/lyrics/samsmith/unholy.html',\n",
       " 'How To Cry': 'https://www.azlyrics.com/lyrics/samsmith/howtocry.html',\n",
       " 'Six Shots': 'https://www.azlyrics.com/lyrics/samsmith/sixshots.html',\n",
       " 'Gimme': 'https://www.azlyrics.com/lyrics/samsmith/gimme.html',\n",
       " \"Dorothy's Interlude\": 'https://www.azlyrics.com/lyrics/samsmith/dorothysinterlude.html',\n",
       " \"I'm Not Here To Make Friends\": 'https://www.azlyrics.com/lyrics/samsmith/imnotheretomakefriends.html',\n",
       " 'Gloria': 'https://www.azlyrics.com/lyrics/samsmith/gloria.html',\n",
       " 'Who We Love': 'https://www.azlyrics.com/lyrics/samsmith/whowelove.html',\n",
       " 'Heavenly Sent': 'https://www.azlyrics.com/lyrics/samsmith/heavenlysent.html',\n",
       " 'Kissing You': 'https://www.azlyrics.com/lyrics/samsmith/kissingyou.html',\n",
       " 'The Lighthouse Keeper': 'https://www.azlyrics.com/lyrics/samsmith/thelighthousekeeper.html',\n",
       " 'Have Yourself A Merry Little Christmas': 'https://www.azlyrics.com/lyrics/samsmith/haveyourselfamerrylittlechristmas.html',\n",
       " 'Night Before Christmas': 'https://www.azlyrics.com/lyrics/samsmith/nightbeforechristmas.html',\n",
       " 'Daniel': 'https://www.azlyrics.com/lyrics/samsmith/daniel.html',\n",
       " 'Desire': 'https://www.azlyrics.comhttps://www.azlyrics.com/lyrics/calvinharris/desire.html',\n",
       " 'Fix You (Live)': 'https://www.azlyrics.com/lyrics/samsmith/fixyoulive.html',\n",
       " 'Get Happy': 'https://www.azlyrics.com/lyrics/samsmith/gethappy.html',\n",
       " 'Hotline Bling': 'https://www.azlyrics.com/lyrics/samsmith/hotlinebling.html',\n",
       " 'I Feel Love': 'https://www.azlyrics.com/lyrics/samsmith/ifeellove.html',\n",
       " 'In The City': 'https://www.azlyrics.comhttps://www.azlyrics.com/lyrics/charlixcx/inthecity.html',\n",
       " 'Lay Me Down (Acoustic)': 'https://www.azlyrics.com/lyrics/samsmith/lay-me-down-acoustic.html',\n",
       " 'Little Sailor': 'https://www.azlyrics.com/lyrics/samsmith/littlesailor.html',\n",
       " 'Man I Am': 'https://www.azlyrics.com/lyrics/samsmith/maniam.html',\n",
       " 'Perfect (Remix)': 'https://www.azlyrics.com/lyrics/samsmith/perfectremix.html',\n",
       " 'Pray (MK Remix)': 'https://www.azlyrics.com/lyrics/samsmith/praymkremix.html',\n",
       " 'Pray (Remix)': 'https://www.azlyrics.com/lyrics/samsmith/prayremix.html',\n",
       " 'River': 'https://www.azlyrics.com/lyrics/samsmith/river.html',\n",
       " 'Skies Of Rain': 'https://www.azlyrics.com/lyrics/samsmith/skiesofrain.html',\n",
       " 'Together': 'https://www.azlyrics.com/lyrics/samsmith/together.html',\n",
       " 'Unholy (Nova Twins Remix)': 'https://www.azlyrics.com/lyrics/samsmith/unholynovatwinsremix.html',\n",
       " 'VULGAR': 'https://www.azlyrics.com/lyrics/samsmith/vulgar.html',\n",
       " \"When It's Alright (Tomcraft Edit)\": 'https://www.azlyrics.com/lyrics/samsmith/whenitsalrighttomcraftedit.html',\n",
       " \"Writing's On The Wall\": 'https://www.azlyrics.com/lyrics/samsmith/writingsonthewall.html',\n",
       " 'You Will Be Found': 'https://www.azlyrics.com/lyrics/samsmith/youwillbefound.html'}"
      ]
     },
     "execution_count": 28,
     "metadata": {},
     "output_type": "execute_result"
    }
   ],
   "source": [
    "# @title Step 5: Getting the `List of songs` under each album\n",
    "list_of_songs = doc.find_all('div', class_='listalbum-item')\n",
    "\n",
    "# Creating a list of all the songs\n",
    "song_list_and_url = {}\n",
    "\n",
    "for song in list_of_songs:\n",
    "    # Using find method to extract song name and link\n",
    "    song_name = song.find('a').text.strip()\n",
    "    song_link = base_url + song.find('a')['href']\n",
    "\n",
    "    # Updating the dictionary\n",
    "    song_list_and_url.update({song_name: song_link})\n",
    "\n",
    "song_list_and_url\n"
   ]
  },
  {
   "cell_type": "markdown",
   "metadata": {
    "id": "_G692R9Cu26n"
   },
   "source": [
    "\n",
    "\n",
    "---\n",
    "\n",
    "\n",
    "## Now that we know how to extract the data we want, let's combine all the lines of code above into a `function` called `song_dataset`"
   ]
  },
  {
   "cell_type": "code",
   "execution_count": 47,
   "metadata": {
    "id": "7F3tgdW2l1bT"
   },
   "outputs": [],
   "source": [
    "def song_dataset(url):\n",
    "    # Step 1: Download the webpage\n",
    "    response = requests.get(url)\n",
    "\n",
    "    if response.status_code != 200:\n",
    "        print(f\"Failed to retrieve the page. Status code: {response.status_code}\")\n",
    "        return None\n",
    "\n",
    "    # Step 2: Parse the HTML content\n",
    "    doc = BeautifulSoup(response.text, 'html.parser')\n",
    "\n",
    "    # Step 3: Get the artist name\n",
    "    artist_name = doc.h1.text.strip()\n",
    "    artist_name = artist_name.strip(' Lyrics')\n",
    "\n",
    "    # Step 4: Get the list of albums\n",
    "    list_of_albums = doc.find_all('div', class_='album')\n",
    "    albums_and_year = [album.text.strip() for album in list_of_albums]\n",
    "\n",
    "    # Step 5: Get the album images\n",
    "    album_img = doc.find_all('img', class_='album-image')\n",
    "    img_src = [base_url+img['src'] for img in album_img]\n",
    "\n",
    "    # Step 6: Get the list of songs for each album\n",
    "    list_of_songs = doc.find_all('div', class_='listalbum-item')\n",
    "    song_list_and_url = {}\n",
    "\n",
    "    for song in list_of_songs:\n",
    "        album = song.find_previous('div', class_='album').text.strip()\n",
    "        song_name = song.find('a').text.strip()\n",
    "        song_link = url + song.find('a')['href']\n",
    "\n",
    "        # Update the dictionary with the new structure\n",
    "        if album not in song_list_and_url:\n",
    "            song_list_and_url[album] = []\n",
    "        song_list_and_url[album].append({'song_name': song_name, 'song_link': song_link})\n",
    "\n",
    "    # Combine all the data into a dictionary\n",
    "    result = {\n",
    "        'Artist Name': artist_name,\n",
    "        'Album Name (Year)': albums_and_year,\n",
    "        'Cover Image Link': img_src,\n",
    "        'Song List and Url': song_list_and_url\n",
    "    }\n",
    "\n",
    "    return result\n"
   ]
  },
  {
   "cell_type": "markdown",
   "metadata": {
    "id": "h9WZl4feusbf"
   },
   "source": [
    "### Testing out the function\n",
    "\n",
    "Example using `Sam Smith`"
   ]
  },
  {
   "cell_type": "code",
   "execution_count": 48,
   "metadata": {
    "colab": {
     "base_uri": "https://localhost:8080/"
    },
    "id": "AW3vrnTyuu_G",
    "outputId": "a43982aa-9309-484a-ffc3-56ab94bdc20b"
   },
   "outputs": [
    {
     "name": "stdout",
     "output_type": "stream",
     "text": [
      "{'Artist Name': 'Sam Smith', 'Album Name (Year)': ['EP: \"Nirvana\" (2013)', 'album: \"In The Lonely Hour\" (2014)', 'compilation: \"The Lost Tapes - Remixed\" (2015)', 'album: \"The Thrill Of It All\" (2017)', 'album: \"Love Goes\" (2020)', 'album: \"Gloria\" (2023)', 'EP: \"A Lonely Christmas\" (2023)', 'other songs:'], 'Cover Image Link': ['https://www.azlyrics.com/images/albums/301/e5d75335ac015e7cdf969156da6757c1.jpg', 'https://www.azlyrics.com/images/albums/311/b68c5abf3224e6be1646cdf3cc654317.jpg', 'https://www.azlyrics.com/images/albums/389/a804e1c4301d624da01765e30a8d7275.jpg', 'https://www.azlyrics.com/images/albums/507/20be9d855606d7afd018e34e1c1e615a.jpg', 'https://www.azlyrics.com/images/albums/880/62f6b1bbff0c287e401b40777a009bd8.jpg', 'https://www.azlyrics.com/images/albums/114/0f186ced50cebe5367f3b0292752513a.jpg', 'https://www.azlyrics.com/images/albums/125/f2db884a31babe5c6fc6deee506b2b0d.jpg'], 'Song List and Url': {'EP: \"Nirvana\" (2013)': [{'song_name': 'Safe With Me', 'song_link': 'https://www.azlyrics.com/s/samsmith.html/lyrics/samsmith/safewithme.html'}, {'song_name': 'Nirvana', 'song_link': 'https://www.azlyrics.com/s/samsmith.html/lyrics/samsmith/nirvana.html'}, {'song_name': \"I've Told You Now\", 'song_link': 'https://www.azlyrics.com/s/samsmith.html/lyrics/samsmith/ivetoldyounow.html'}, {'song_name': 'Latch (Acoustic)', 'song_link': 'https://www.azlyrics.com/s/samsmith.html/lyrics/samsmith/latchacoustic.html'}], 'album: \"In The Lonely Hour\" (2014)': [{'song_name': 'Money On My Mind', 'song_link': 'https://www.azlyrics.com/s/samsmith.html/lyrics/samsmith/moneyonmymind.html'}, {'song_name': 'Good Thing', 'song_link': 'https://www.azlyrics.com/s/samsmith.html/lyrics/samsmith/goodthing.html'}, {'song_name': 'Stay With Me', 'song_link': 'https://www.azlyrics.com/s/samsmith.html/lyrics/samsmith/staywithme.html'}, {'song_name': 'Leave Your Lover', 'song_link': 'https://www.azlyrics.com/s/samsmith.html/lyrics/samsmith/leaveyourlover.html'}, {'song_name': \"I'm Not The Only One\", 'song_link': 'https://www.azlyrics.com/s/samsmith.html/lyrics/samsmith/imnottheonlyone.html'}, {'song_name': \"I've Told You Now\", 'song_link': 'https://www.azlyrics.com/s/samsmith.html/lyrics/samsmith/ivetoldyounow.html'}, {'song_name': 'Like I Can', 'song_link': 'https://www.azlyrics.com/s/samsmith.html/lyrics/samsmith/likeican.html'}, {'song_name': 'Life Support', 'song_link': 'https://www.azlyrics.com/s/samsmith.html/lyrics/samsmith/lifesupport.html'}, {'song_name': 'Not In That Way', 'song_link': 'https://www.azlyrics.com/s/samsmith.html/lyrics/samsmith/notinthatway.html'}, {'song_name': 'Lay Me Down', 'song_link': 'https://www.azlyrics.com/s/samsmith.html/lyrics/samsmith/laymedown.html'}, {'song_name': 'Restart', 'song_link': 'https://www.azlyrics.com/s/samsmith.html/lyrics/samsmith/restart.html'}, {'song_name': 'Latch (Acoustic)', 'song_link': 'https://www.azlyrics.com/s/samsmith.html/lyrics/samsmith/latchacoustic.html'}, {'song_name': 'La La La', 'song_link': 'https://www.azlyrics.com/s/samsmith.htmlhttps://www.azlyrics.com/lyrics/naughtyboy/lalala.html'}, {'song_name': 'Reminds Me Of You', 'song_link': 'https://www.azlyrics.com/s/samsmith.html/lyrics/samsmith/remindsmeofyou.html'}, {'song_name': 'Make It To Me', 'song_link': 'https://www.azlyrics.com/s/samsmith.html/lyrics/samsmith/makeittome.html'}, {'song_name': 'In The Lonely Hour', 'song_link': 'https://www.azlyrics.com/s/samsmith.html/lyrics/samsmith/inthelonelyhour.html'}, {'song_name': 'Drowning Shadows', 'song_link': 'https://www.azlyrics.com/s/samsmith.html/lyrics/samsmith/drowningshadows.html'}, {'song_name': 'Love Is A Losing Game', 'song_link': 'https://www.azlyrics.com/s/samsmith.html/lyrics/samsmith/loveisalosinggame.html'}, {'song_name': 'Nirvana', 'song_link': 'https://www.azlyrics.com/s/samsmith.html/lyrics/samsmith/nirvana.html'}, {'song_name': 'How Will I Know', 'song_link': 'https://www.azlyrics.com/s/samsmith.html/lyrics/samsmith/howwilliknow.html'}, {'song_name': 'Omen', 'song_link': 'https://www.azlyrics.com/s/samsmith.htmlhttps://www.azlyrics.com/lyrics/disclosure/omen.html'}, {'song_name': 'Stay With Me (Remix)', 'song_link': 'https://www.azlyrics.com/s/samsmith.html/lyrics/samsmith/staywithmeremix.html'}, {'song_name': \"I'm Not The Only One (Remix)\", 'song_link': 'https://www.azlyrics.com/s/samsmith.html/lyrics/samsmith/imnottheonlyoneremix.html'}, {'song_name': 'Lay Me Down (Remix)', 'song_link': 'https://www.azlyrics.com/s/samsmith.html/lyrics/samsmith/laymedownremix.html'}], 'compilation: \"The Lost Tapes - Remixed\" (2015)': [{'song_name': 'All This Madness (Genji Yoshida Remix)', 'song_link': 'https://www.azlyrics.com/s/samsmith.html/lyrics/samsmith/allthismadnessgenjiyoshidaremix.html'}, {'song_name': 'Moments (Radio Edit)', 'song_link': 'https://www.azlyrics.com/s/samsmith.html/lyrics/samsmith/momentsradioedit.html'}, {'song_name': 'Out Of Our Heads (Tom Bruckner Remix)', 'song_link': 'https://www.azlyrics.com/s/samsmith.html/lyrics/samsmith/outofourheadstombrucknerremix.html'}, {'song_name': 'So Much More to Lose (Pooker Remix)', 'song_link': 'https://www.azlyrics.com/s/samsmith.html/lyrics/samsmith/somuchmoretolosepookerremix.html'}, {'song_name': 'Show A Little Mercy (Tai Remix)', 'song_link': 'https://www.azlyrics.com/s/samsmith.html/lyrics/samsmith/showalittlemercytairemix.html'}, {'song_name': 'A Little Melancholy (Arbitraire Remix)', 'song_link': 'https://www.azlyrics.com/s/samsmith.html/lyrics/samsmith/alittlemelancholyarbitraireremix.html'}], 'album: \"The Thrill Of It All\" (2017)': [{'song_name': 'Too Good At Goodbyes', 'song_link': 'https://www.azlyrics.com/s/samsmith.html/lyrics/samsmith/toogoodatgoodbyes.html'}, {'song_name': 'Say It First', 'song_link': 'https://www.azlyrics.com/s/samsmith.html/lyrics/samsmith/sayitfirst.html'}, {'song_name': 'One Last Song', 'song_link': 'https://www.azlyrics.com/s/samsmith.html/lyrics/samsmith/onelastsong.html'}, {'song_name': 'Midnight Train', 'song_link': 'https://www.azlyrics.com/s/samsmith.html/lyrics/samsmith/midnighttrain.html'}, {'song_name': 'Burning', 'song_link': 'https://www.azlyrics.com/s/samsmith.html/lyrics/samsmith/burning.html'}, {'song_name': 'HIM', 'song_link': 'https://www.azlyrics.com/s/samsmith.html/lyrics/samsmith/him.html'}, {'song_name': 'Baby, You Make Me Crazy', 'song_link': 'https://www.azlyrics.com/s/samsmith.html/lyrics/samsmith/babyyoumakemecrazy.html'}, {'song_name': 'No Peace', 'song_link': 'https://www.azlyrics.com/s/samsmith.html/lyrics/samsmith/nopeace.html'}, {'song_name': 'Palace', 'song_link': 'https://www.azlyrics.com/s/samsmith.html/lyrics/samsmith/palace.html'}, {'song_name': 'Pray', 'song_link': 'https://www.azlyrics.com/s/samsmith.html/lyrics/samsmith/pray.html'}, {'song_name': 'Nothing Left For You', 'song_link': 'https://www.azlyrics.com/s/samsmith.html/lyrics/samsmith/nothingleftforyou.html'}, {'song_name': 'The Thrill Of It All', 'song_link': 'https://www.azlyrics.com/s/samsmith.html/lyrics/samsmith/thethrillofitall.html'}, {'song_name': 'Scars', 'song_link': 'https://www.azlyrics.com/s/samsmith.html/lyrics/samsmith/scars.html'}, {'song_name': 'One Day At A Time', 'song_link': 'https://www.azlyrics.com/s/samsmith.html/lyrics/samsmith/onedayatatime.html'}], 'album: \"Love Goes\" (2020)': [{'song_name': 'Young', 'song_link': 'https://www.azlyrics.com/s/samsmith.html/lyrics/samsmith/young.html'}, {'song_name': 'Diamonds', 'song_link': 'https://www.azlyrics.com/s/samsmith.html/lyrics/samsmith/diamonds.html'}, {'song_name': 'Another One', 'song_link': 'https://www.azlyrics.com/s/samsmith.html/lyrics/samsmith/anotherone.html'}, {'song_name': 'My Oasis', 'song_link': 'https://www.azlyrics.com/s/samsmith.html/lyrics/samsmith/myoasis.html'}, {'song_name': 'So Serious', 'song_link': 'https://www.azlyrics.com/s/samsmith.html/lyrics/samsmith/soserious.html'}, {'song_name': \"Dance ('Til You Love Someone Else)\", 'song_link': 'https://www.azlyrics.com/s/samsmith.html/lyrics/samsmith/dancetilyoulovesomeoneelse.html'}, {'song_name': 'For The Lover That I Lost', 'song_link': 'https://www.azlyrics.com/s/samsmith.html/lyrics/samsmith/fortheloverthatilost.html'}, {'song_name': 'Breaking Hearts', 'song_link': 'https://www.azlyrics.com/s/samsmith.html/lyrics/samsmith/breakinghearts.html'}, {'song_name': 'Forgive Myself', 'song_link': 'https://www.azlyrics.com/s/samsmith.html/lyrics/samsmith/forgivemyself.html'}, {'song_name': 'Love Goes', 'song_link': 'https://www.azlyrics.com/s/samsmith.html/lyrics/samsmith/lovegoes.html'}, {'song_name': 'Kids Again', 'song_link': 'https://www.azlyrics.com/s/samsmith.html/lyrics/samsmith/kidsagain.html'}, {'song_name': 'Dancing With A Stranger', 'song_link': 'https://www.azlyrics.com/s/samsmith.html/lyrics/samsmith/dancingwithastranger.html'}, {'song_name': 'How Do You Sleep?', 'song_link': 'https://www.azlyrics.com/s/samsmith.html/lyrics/samsmith/howdoyousleep.html'}, {'song_name': 'To Die For', 'song_link': 'https://www.azlyrics.com/s/samsmith.html/lyrics/samsmith/todiefor.html'}, {'song_name': \"I'm Ready\", 'song_link': 'https://www.azlyrics.com/s/samsmith.html/lyrics/samsmith/imready.html'}, {'song_name': 'Fire On Fire', 'song_link': 'https://www.azlyrics.com/s/samsmith.html/lyrics/samsmith/fireonfire.html'}, {'song_name': 'Promises', 'song_link': 'https://www.azlyrics.com/s/samsmith.htmlhttps://www.azlyrics.com/lyrics/calvinharris/promises.html'}, {'song_name': 'Sober', 'song_link': 'https://www.azlyrics.com/s/samsmith.html/lyrics/samsmith/sober.html'}, {'song_name': 'Laurel Canyon', 'song_link': 'https://www.azlyrics.com/s/samsmith.html/lyrics/samsmith/laurelcanyon.html'}], 'album: \"Gloria\" (2023)': [{'song_name': 'Love Me More', 'song_link': 'https://www.azlyrics.com/s/samsmith.html/lyrics/samsmith/lovememore.html'}, {'song_name': 'No God', 'song_link': 'https://www.azlyrics.com/s/samsmith.html/lyrics/samsmith/nogod.html'}, {'song_name': 'Hurting Interlude', 'song_link': 'https://www.azlyrics.com/s/samsmith.html/lyrics/samsmith/hurtinginterlude.html'}, {'song_name': 'Lose You', 'song_link': 'https://www.azlyrics.com/s/samsmith.html/lyrics/samsmith/loseyou.html'}, {'song_name': 'Perfect', 'song_link': 'https://www.azlyrics.com/s/samsmith.html/lyrics/samsmith/perfect.html'}, {'song_name': 'Unholy', 'song_link': 'https://www.azlyrics.com/s/samsmith.html/lyrics/samsmith/unholy.html'}, {'song_name': 'How To Cry', 'song_link': 'https://www.azlyrics.com/s/samsmith.html/lyrics/samsmith/howtocry.html'}, {'song_name': 'Six Shots', 'song_link': 'https://www.azlyrics.com/s/samsmith.html/lyrics/samsmith/sixshots.html'}, {'song_name': 'Gimme', 'song_link': 'https://www.azlyrics.com/s/samsmith.html/lyrics/samsmith/gimme.html'}, {'song_name': \"Dorothy's Interlude\", 'song_link': 'https://www.azlyrics.com/s/samsmith.html/lyrics/samsmith/dorothysinterlude.html'}, {'song_name': \"I'm Not Here To Make Friends\", 'song_link': 'https://www.azlyrics.com/s/samsmith.html/lyrics/samsmith/imnotheretomakefriends.html'}, {'song_name': 'Gloria', 'song_link': 'https://www.azlyrics.com/s/samsmith.html/lyrics/samsmith/gloria.html'}, {'song_name': 'Who We Love', 'song_link': 'https://www.azlyrics.com/s/samsmith.html/lyrics/samsmith/whowelove.html'}, {'song_name': 'Heavenly Sent', 'song_link': 'https://www.azlyrics.com/s/samsmith.html/lyrics/samsmith/heavenlysent.html'}, {'song_name': 'Kissing You', 'song_link': 'https://www.azlyrics.com/s/samsmith.html/lyrics/samsmith/kissingyou.html'}], 'EP: \"A Lonely Christmas\" (2023)': [{'song_name': 'The Lighthouse Keeper', 'song_link': 'https://www.azlyrics.com/s/samsmith.html/lyrics/samsmith/thelighthousekeeper.html'}, {'song_name': 'Have Yourself A Merry Little Christmas', 'song_link': 'https://www.azlyrics.com/s/samsmith.html/lyrics/samsmith/haveyourselfamerrylittlechristmas.html'}, {'song_name': 'Palace', 'song_link': 'https://www.azlyrics.com/s/samsmith.html/lyrics/samsmith/palace.html'}, {'song_name': 'Night Before Christmas', 'song_link': 'https://www.azlyrics.com/s/samsmith.html/lyrics/samsmith/nightbeforechristmas.html'}], 'other songs:': [{'song_name': 'Daniel', 'song_link': 'https://www.azlyrics.com/s/samsmith.html/lyrics/samsmith/daniel.html'}, {'song_name': 'Desire', 'song_link': 'https://www.azlyrics.com/s/samsmith.htmlhttps://www.azlyrics.com/lyrics/calvinharris/desire.html'}, {'song_name': 'Fix You (Live)', 'song_link': 'https://www.azlyrics.com/s/samsmith.html/lyrics/samsmith/fixyoulive.html'}, {'song_name': 'Get Happy', 'song_link': 'https://www.azlyrics.com/s/samsmith.html/lyrics/samsmith/gethappy.html'}, {'song_name': 'Hotline Bling', 'song_link': 'https://www.azlyrics.com/s/samsmith.html/lyrics/samsmith/hotlinebling.html'}, {'song_name': 'I Feel Love', 'song_link': 'https://www.azlyrics.com/s/samsmith.html/lyrics/samsmith/ifeellove.html'}, {'song_name': 'In The City', 'song_link': 'https://www.azlyrics.com/s/samsmith.htmlhttps://www.azlyrics.com/lyrics/charlixcx/inthecity.html'}, {'song_name': 'Lay Me Down (Acoustic)', 'song_link': 'https://www.azlyrics.com/s/samsmith.html/lyrics/samsmith/lay-me-down-acoustic.html'}, {'song_name': 'Little Sailor', 'song_link': 'https://www.azlyrics.com/s/samsmith.html/lyrics/samsmith/littlesailor.html'}, {'song_name': 'Man I Am', 'song_link': 'https://www.azlyrics.com/s/samsmith.html/lyrics/samsmith/maniam.html'}, {'song_name': 'Perfect (Remix)', 'song_link': 'https://www.azlyrics.com/s/samsmith.html/lyrics/samsmith/perfectremix.html'}, {'song_name': 'Pray (MK Remix)', 'song_link': 'https://www.azlyrics.com/s/samsmith.html/lyrics/samsmith/praymkremix.html'}, {'song_name': 'Pray (Remix)', 'song_link': 'https://www.azlyrics.com/s/samsmith.html/lyrics/samsmith/prayremix.html'}, {'song_name': 'River', 'song_link': 'https://www.azlyrics.com/s/samsmith.html/lyrics/samsmith/river.html'}, {'song_name': 'Skies Of Rain', 'song_link': 'https://www.azlyrics.com/s/samsmith.html/lyrics/samsmith/skiesofrain.html'}, {'song_name': 'Together', 'song_link': 'https://www.azlyrics.com/s/samsmith.html/lyrics/samsmith/together.html'}, {'song_name': 'Unholy (Nova Twins Remix)', 'song_link': 'https://www.azlyrics.com/s/samsmith.html/lyrics/samsmith/unholynovatwinsremix.html'}, {'song_name': 'VULGAR', 'song_link': 'https://www.azlyrics.com/s/samsmith.html/lyrics/samsmith/vulgar.html'}, {'song_name': \"When It's Alright (Tomcraft Edit)\", 'song_link': 'https://www.azlyrics.com/s/samsmith.html/lyrics/samsmith/whenitsalrighttomcraftedit.html'}, {'song_name': \"Writing's On The Wall\", 'song_link': 'https://www.azlyrics.com/s/samsmith.html/lyrics/samsmith/writingsonthewall.html'}, {'song_name': 'You Will Be Found', 'song_link': 'https://www.azlyrics.com/s/samsmith.html/lyrics/samsmith/youwillbefound.html'}]}}\n"
     ]
    }
   ],
   "source": [
    "# Example for \"Sam Smith\"\n",
    "url_to_scrape = 'https://www.azlyrics.com/s/samsmith.html'\n",
    "result_dataset = song_dataset(url_to_scrape)\n",
    "\n",
    "# Print the result or further processing\n",
    "print(result_dataset)"
   ]
  },
  {
   "cell_type": "markdown",
   "metadata": {
    "id": "g6dtQcJhvn0n"
   },
   "source": [
    "### Example 2 -- Scraping the song_dataset for using `Rihanna`"
   ]
  },
  {
   "cell_type": "code",
   "execution_count": 49,
   "metadata": {
    "colab": {
     "base_uri": "https://localhost:8080/"
    },
    "id": "P9lDggbKvwuS",
    "outputId": "59b04c55-1d9b-4d3e-985c-82ffd473a5ad"
   },
   "outputs": [
    {
     "name": "stdout",
     "output_type": "stream",
     "text": [
      "{'Artist Name': 'Rihanna', 'Album Name (Year)': ['album: \"Music Of The Sun\" (2005)', 'album: \"A Girl Like Me\" (2006)', 'album: \"Good Girl Gone Bad\" (2007)', 'album: \"Rated R\" (2009)', 'album: \"Loud\" (2010)', 'album: \"Talk That Talk\" (2011)', 'album: \"Unapologetic\" (2012)', 'soundtrack: \"Home\" (2015)', 'album: \"Anti\" (2016)', 'other songs:'], 'Cover Image Link': ['https://www.azlyrics.com/images/albums/486/c8c9fdd8c445e62a27502c065d281833.jpg', 'https://www.azlyrics.com/images/albums/540/581a721398e196e20775a722602f2690.jpg', 'https://www.azlyrics.com/images/albums/610/5f1d8b6d58c7c2cbd4dbe4b3c642cec0.jpg', 'https://www.azlyrics.com/images/albums/854/59938eea10f80a5838ab10fafb63d225.jpg', 'https://www.azlyrics.com/images/albums/106/0f2cf9308094841455ab0970302649af.jpg', 'https://www.azlyrics.com/images/albums/190/8642986c76fa48b9bc11e09451c59e9f.jpg', 'https://www.azlyrics.com/images/albums/249/1a1070f90be14d6305352a7b42bd460b.jpg', 'https://www.azlyrics.com/images/albums/370/84151a13599dc763e73b3c071a969175.jpg', 'https://www.azlyrics.com/images/albums/411/b9b6c8f673a7811ad449783d755b03af.jpg'], 'Song List and Url': {'album: \"Music Of The Sun\" (2005)': [{'song_name': 'Pon De Replay', 'song_link': 'https://www.azlyrics.com/r/rihanna.html/lyrics/rihanna/pondereplay.html'}, {'song_name': 'Here I Go Again', 'song_link': 'https://www.azlyrics.com/r/rihanna.html/lyrics/rihanna/hereigoagain.html'}, {'song_name': \"If It's Lovin' That You Want\", 'song_link': 'https://www.azlyrics.com/r/rihanna.html/lyrics/rihanna/ifitslovinthatyouwant.html'}, {'song_name': \"You Don't Love Me (No, No, No)\", 'song_link': 'https://www.azlyrics.com/r/rihanna.html/lyrics/rihanna/youdontlovemenonono.html'}, {'song_name': 'That La, La, La', 'song_link': 'https://www.azlyrics.com/r/rihanna.html/lyrics/rihanna/thatlalala.html'}, {'song_name': 'The Last Time', 'song_link': 'https://www.azlyrics.com/r/rihanna.html/lyrics/rihanna/thelasttime.html'}, {'song_name': 'Willing To Wait', 'song_link': 'https://www.azlyrics.com/r/rihanna.html/lyrics/rihanna/willingtowait.html'}, {'song_name': 'Music Of The Sun', 'song_link': 'https://www.azlyrics.com/r/rihanna.html/lyrics/rihanna/musicofthesun.html'}, {'song_name': 'Let Me', 'song_link': 'https://www.azlyrics.com/r/rihanna.html/lyrics/rihanna/letme.html'}, {'song_name': 'Rush', 'song_link': 'https://www.azlyrics.com/r/rihanna.html/lyrics/rihanna/rush.html'}, {'song_name': \"There's A Thug In My Life\", 'song_link': 'https://www.azlyrics.com/r/rihanna.html/lyrics/rihanna/theresathuginmylife.html'}, {'song_name': 'Now I Know', 'song_link': 'https://www.azlyrics.com/r/rihanna.html/lyrics/rihanna/nowiknow.html'}, {'song_name': 'Pon De Replay (Remix)', 'song_link': 'https://www.azlyrics.com/r/rihanna.html/lyrics/rihanna/pondereplayremix.html'}], 'album: \"A Girl Like Me\" (2006)': [{'song_name': 'SOS', 'song_link': 'https://www.azlyrics.com/r/rihanna.html/lyrics/rihanna/sosrescueme.html'}, {'song_name': \"Kisses Don't Lie\", 'song_link': 'https://www.azlyrics.com/r/rihanna.html/lyrics/rihanna/kissesdontlie.html'}, {'song_name': 'Unfaithful', 'song_link': 'https://www.azlyrics.com/r/rihanna.html/lyrics/rihanna/unfaithful.html'}, {'song_name': 'We Ride', 'song_link': 'https://www.azlyrics.com/r/rihanna.html/lyrics/rihanna/weride.html'}, {'song_name': 'Dem Haters', 'song_link': 'https://www.azlyrics.com/r/rihanna.html/lyrics/rihanna/demhaters.html'}, {'song_name': 'Final Goodbye', 'song_link': 'https://www.azlyrics.com/r/rihanna.html/lyrics/rihanna/finalgoodbye.html'}, {'song_name': 'Break It Off', 'song_link': 'https://www.azlyrics.com/r/rihanna.html/lyrics/rihanna/breakitoff.html'}, {'song_name': 'Crazy Little Thing Called Love', 'song_link': 'https://www.azlyrics.com/r/rihanna.html/lyrics/rihanna/crazylittlethingcalledlove.html'}, {'song_name': 'Selfish Girl', 'song_link': 'https://www.azlyrics.com/r/rihanna.html/lyrics/rihanna/selfishgirl.html'}, {'song_name': \"P.S. (I'm Still Not Over You)\", 'song_link': 'https://www.azlyrics.com/r/rihanna.html/lyrics/rihanna/psimstillnotoveryou.html'}, {'song_name': 'A Girl Like Me', 'song_link': 'https://www.azlyrics.com/r/rihanna.html/lyrics/rihanna/agirllikeme.html'}, {'song_name': 'A Million Miles Away', 'song_link': 'https://www.azlyrics.com/r/rihanna.html/lyrics/rihanna/amillionmilesaway.html'}, {'song_name': \"If It's Lovin' That You Want Pt. 2\", 'song_link': 'https://www.azlyrics.com/r/rihanna.html/lyrics/rihanna/ifitslovinthatyouwantpt2.html'}, {'song_name': 'Who Ya Gonna Run To?', 'song_link': 'https://www.azlyrics.com/r/rihanna.html/lyrics/rihanna/whoyagonnarunto.html'}, {'song_name': 'Coulda Been The One', 'song_link': 'https://www.azlyrics.com/r/rihanna.html/lyrics/rihanna/couldabeentheone.html'}, {'song_name': 'Should I?', 'song_link': 'https://www.azlyrics.com/r/rihanna.html/lyrics/rihanna/shouldi.html'}, {'song_name': 'Hypnotized', 'song_link': 'https://www.azlyrics.com/r/rihanna.html/lyrics/rihanna/hypnotized.html'}], 'album: \"Good Girl Gone Bad\" (2007)': [{'song_name': 'Umbrella', 'song_link': 'https://www.azlyrics.com/r/rihanna.html/lyrics/rihanna/umbrella.html'}, {'song_name': 'Push Up On Me', 'song_link': 'https://www.azlyrics.com/r/rihanna.html/lyrics/rihanna/pushuponme.html'}, {'song_name': \"Don't Stop The Music\", 'song_link': 'https://www.azlyrics.com/r/rihanna.html/lyrics/rihanna/dontstopthemusic.html'}, {'song_name': \"Breakin' Dishes\", 'song_link': 'https://www.azlyrics.com/r/rihanna.html/lyrics/rihanna/breakindishes.html'}, {'song_name': 'Shut Up And Drive', 'song_link': 'https://www.azlyrics.com/r/rihanna.html/lyrics/rihanna/shutupanddrive.html'}, {'song_name': 'Hate That I Love You', 'song_link': 'https://www.azlyrics.com/r/rihanna.html/lyrics/rihanna/hatethatiloveyou.html'}, {'song_name': 'Say It', 'song_link': 'https://www.azlyrics.com/r/rihanna.html/lyrics/rihanna/sayit.html'}, {'song_name': 'Sell Me Candy', 'song_link': 'https://www.azlyrics.com/r/rihanna.html/lyrics/rihanna/sellmecandy.html'}, {'song_name': 'Lemme Get That', 'song_link': 'https://www.azlyrics.com/r/rihanna.html/lyrics/rihanna/lemmegetthat.html'}, {'song_name': 'Rehab', 'song_link': 'https://www.azlyrics.com/r/rihanna.html/lyrics/rihanna/rehab.html'}, {'song_name': 'Question Existing', 'song_link': 'https://www.azlyrics.com/r/rihanna.html/lyrics/rihanna/questionexisting.html'}, {'song_name': 'Good Girl Gone Bad', 'song_link': 'https://www.azlyrics.com/r/rihanna.html/lyrics/rihanna/goodgirlgonebad.html'}, {'song_name': 'Cry', 'song_link': 'https://www.azlyrics.com/r/rihanna.html/lyrics/rihanna/cry.html'}, {'song_name': 'Haunted', 'song_link': 'https://www.azlyrics.com/r/rihanna.html/lyrics/rihanna/haunted.html'}, {'song_name': 'Disturbia', 'song_link': 'https://www.azlyrics.com/r/rihanna.html/lyrics/rihanna/disturbia.html'}, {'song_name': 'Take A Bow', 'song_link': 'https://www.azlyrics.com/r/rihanna.html/lyrics/rihanna/takeabow.html'}, {'song_name': 'If I Never See Your Face Again', 'song_link': 'https://www.azlyrics.com/r/rihanna.html/lyrics/rihanna/ifineverseeyourfaceagain.html'}], 'album: \"Rated R\" (2009)': [{'song_name': 'Mad House', 'song_link': 'https://www.azlyrics.com/r/rihanna.html/lyrics/rihanna/madhouse.html'}, {'song_name': 'Wait Your Turn', 'song_link': 'https://www.azlyrics.com/r/rihanna.html/lyrics/rihanna/waityourturn.html'}, {'song_name': 'Hard', 'song_link': 'https://www.azlyrics.com/r/rihanna.html/lyrics/rihanna/hard.html'}, {'song_name': 'Stupid In Love', 'song_link': 'https://www.azlyrics.com/r/rihanna.html/lyrics/rihanna/stupidinlove.html'}, {'song_name': 'Rockstar 101', 'song_link': 'https://www.azlyrics.com/r/rihanna.html/lyrics/rihanna/rockstar101.html'}, {'song_name': 'Russian Roulette', 'song_link': 'https://www.azlyrics.com/r/rihanna.html/lyrics/rihanna/russianroulette.html'}, {'song_name': 'Fire Bomb', 'song_link': 'https://www.azlyrics.com/r/rihanna.html/lyrics/rihanna/firebomb.html'}, {'song_name': 'Rude Boy', 'song_link': 'https://www.azlyrics.com/r/rihanna.html/lyrics/rihanna/rudeboy.html'}, {'song_name': 'Photographs', 'song_link': 'https://www.azlyrics.com/r/rihanna.html/lyrics/rihanna/photographs.html'}, {'song_name': 'G4L', 'song_link': 'https://www.azlyrics.com/r/rihanna.html/lyrics/rihanna/g4l.html'}, {'song_name': 'Te Amo', 'song_link': 'https://www.azlyrics.com/r/rihanna.html/lyrics/rihanna/teamo.html'}, {'song_name': 'Cold Case Love', 'song_link': 'https://www.azlyrics.com/r/rihanna.html/lyrics/rihanna/coldcaselove.html'}, {'song_name': 'The Last Song', 'song_link': 'https://www.azlyrics.com/r/rihanna.html/lyrics/rihanna/thelastsong.html'}, {'song_name': 'Hole In My Head', 'song_link': 'https://www.azlyrics.com/r/rihanna.html/lyrics/rihanna/holeinmyhead.html'}], 'album: \"Loud\" (2010)': [{'song_name': 'S&M', 'song_link': 'https://www.azlyrics.com/r/rihanna.html/lyrics/rihanna/sm.html'}, {'song_name': \"What's My Name?\", 'song_link': 'https://www.azlyrics.com/r/rihanna.html/lyrics/rihanna/whatsmyname.html'}, {'song_name': 'Cheers (Drink To That)', 'song_link': 'https://www.azlyrics.com/r/rihanna.html/lyrics/rihanna/cheersdrinktothat.html'}, {'song_name': 'Fading', 'song_link': 'https://www.azlyrics.com/r/rihanna.html/lyrics/rihanna/fading.html'}, {'song_name': 'Only Girl (In The World)', 'song_link': 'https://www.azlyrics.com/r/rihanna.html/lyrics/rihanna/onlygirlintheworld.html'}, {'song_name': 'California King Bed', 'song_link': 'https://www.azlyrics.com/r/rihanna.html/lyrics/rihanna/californiakingbed.html'}, {'song_name': 'Man Down', 'song_link': 'https://www.azlyrics.com/r/rihanna.html/lyrics/rihanna/mandown.html'}, {'song_name': 'Raining Men', 'song_link': 'https://www.azlyrics.com/r/rihanna.html/lyrics/rihanna/rainingmen.html'}, {'song_name': 'Complicated', 'song_link': 'https://www.azlyrics.com/r/rihanna.html/lyrics/rihanna/complicated.html'}, {'song_name': 'Skin', 'song_link': 'https://www.azlyrics.com/r/rihanna.html/lyrics/rihanna/skin.html'}, {'song_name': 'Love The Way You Lie Part II', 'song_link': 'https://www.azlyrics.com/r/rihanna.html/lyrics/rihanna/lovethewayyouliepartii.html'}], 'album: \"Talk That Talk\" (2011)': [{'song_name': 'You Da One', 'song_link': 'https://www.azlyrics.com/r/rihanna.html/lyrics/rihanna/youdaone.html'}, {'song_name': 'Where Have You Been', 'song_link': 'https://www.azlyrics.com/r/rihanna.html/lyrics/rihanna/wherehaveyoubeen.html'}, {'song_name': 'We Found Love', 'song_link': 'https://www.azlyrics.com/r/rihanna.html/lyrics/rihanna/wefoundlove.html'}, {'song_name': 'Talk That Talk', 'song_link': 'https://www.azlyrics.com/r/rihanna.html/lyrics/rihanna/talkthattalk.html'}, {'song_name': 'Cockiness (Love It)', 'song_link': 'https://www.azlyrics.com/r/rihanna.html/lyrics/rihanna/cockinessloveit.html'}, {'song_name': 'Birthday Cake', 'song_link': 'https://www.azlyrics.com/r/rihanna.html/lyrics/rihanna/birthdaycake.html'}, {'song_name': 'We All Want Love', 'song_link': 'https://www.azlyrics.com/r/rihanna.html/lyrics/rihanna/weallwantlove.html'}, {'song_name': 'Drunk On Love', 'song_link': 'https://www.azlyrics.com/r/rihanna.html/lyrics/rihanna/drunkonlove.html'}, {'song_name': 'Roc Me Out', 'song_link': 'https://www.azlyrics.com/r/rihanna.html/lyrics/rihanna/rocmeout.html'}, {'song_name': \"Watch N' Learn\", 'song_link': 'https://www.azlyrics.com/r/rihanna.html/lyrics/rihanna/watchnlearn.html'}, {'song_name': 'Farewell', 'song_link': 'https://www.azlyrics.com/r/rihanna.html/lyrics/rihanna/farewell.html'}, {'song_name': 'Red Lipstick', 'song_link': 'https://www.azlyrics.com/r/rihanna.html/lyrics/rihanna/redlipstick.html'}, {'song_name': 'Do Ya Thang', 'song_link': 'https://www.azlyrics.com/r/rihanna.html/lyrics/rihanna/doyathang.html'}, {'song_name': 'Fool In Love', 'song_link': 'https://www.azlyrics.com/r/rihanna.html/lyrics/rihanna/foolinlove.html'}, {'song_name': 'We Found Love (Extended Mix)', 'song_link': 'https://www.azlyrics.com/r/rihanna.html/lyrics/rihanna/wefoundloveextendedmix.html'}], 'album: \"Unapologetic\" (2012)': [{'song_name': 'Phresh Out The Runway', 'song_link': 'https://www.azlyrics.com/r/rihanna.html/lyrics/rihanna/phreshouttherunway.html'}, {'song_name': 'Diamonds', 'song_link': 'https://www.azlyrics.com/r/rihanna.html/lyrics/rihanna/diamonds.html'}, {'song_name': 'Numb', 'song_link': 'https://www.azlyrics.com/r/rihanna.html/lyrics/rihanna/numb.html'}, {'song_name': 'Pour It Up', 'song_link': 'https://www.azlyrics.com/r/rihanna.html/lyrics/rihanna/pouritup.html'}, {'song_name': 'Loveeeeeee Song', 'song_link': 'https://www.azlyrics.com/r/rihanna.html/lyrics/rihanna/loveeeeeeesong.html'}, {'song_name': 'Jump', 'song_link': 'https://www.azlyrics.com/r/rihanna.html/lyrics/rihanna/jump.html'}, {'song_name': 'Right Now', 'song_link': 'https://www.azlyrics.com/r/rihanna.html/lyrics/rihanna/rightnow.html'}, {'song_name': 'What Now', 'song_link': 'https://www.azlyrics.com/r/rihanna.html/lyrics/rihanna/whatnow.html'}, {'song_name': 'Stay', 'song_link': 'https://www.azlyrics.com/r/rihanna.html/lyrics/rihanna/stay.html'}, {'song_name': \"Nobody's Business\", 'song_link': 'https://www.azlyrics.com/r/rihanna.html/lyrics/rihanna/nobodysbusiness.html'}, {'song_name': 'Love Without Tragedy / Mother Mary', 'song_link': 'https://www.azlyrics.com/r/rihanna.html/lyrics/rihanna/lovewithouttragedymothermary.html'}, {'song_name': 'Get It Over With', 'song_link': 'https://www.azlyrics.com/r/rihanna.html/lyrics/rihanna/getitoverwith.html'}, {'song_name': 'No Love Allowed', 'song_link': 'https://www.azlyrics.com/r/rihanna.html/lyrics/rihanna/noloveallowed.html'}, {'song_name': 'Lost In Paradise', 'song_link': 'https://www.azlyrics.com/r/rihanna.html/lyrics/rihanna/lost-in-paradise.html'}, {'song_name': 'Half Of Me', 'song_link': 'https://www.azlyrics.com/r/rihanna.html/lyrics/rihanna/halfofme.html'}, {'song_name': 'Diamonds (Dave AudÃ© 100 Extended)', 'song_link': 'https://www.azlyrics.com/r/rihanna.html/lyrics/rihanna/diamondsdaveaud100extended.html'}, {'song_name': 'Diamonds (Gregor Salto Downtempo Remix)', 'song_link': 'https://www.azlyrics.com/r/rihanna.html/lyrics/rihanna/diamondsgregorsaltodowntemporemix.html'}], 'soundtrack: \"Home\" (2015)': [{'song_name': 'Towards The Sun', 'song_link': 'https://www.azlyrics.com/r/rihanna.html/lyrics/rihanna/towardsthesun.html'}, {'song_name': 'As Real As You And Me', 'song_link': 'https://www.azlyrics.com/r/rihanna.html/lyrics/rihanna/asrealasyouandme.html'}, {'song_name': 'Dancing In The Dark', 'song_link': 'https://www.azlyrics.com/r/rihanna.html/lyrics/rihanna/dancinginthedark.html'}], 'album: \"Anti\" (2016)': [{'song_name': 'Consideration', 'song_link': 'https://www.azlyrics.com/r/rihanna.html/lyrics/rihanna/consideration.html'}, {'song_name': 'James Joint', 'song_link': 'https://www.azlyrics.com/r/rihanna.html/lyrics/rihanna/jamesjoint.html'}, {'song_name': 'Kiss It Better', 'song_link': 'https://www.azlyrics.com/r/rihanna.html/lyrics/rihanna/kissitbetter.html'}, {'song_name': 'Work', 'song_link': 'https://www.azlyrics.com/r/rihanna.html/lyrics/rihanna/work.html'}, {'song_name': 'Desperado', 'song_link': 'https://www.azlyrics.com/r/rihanna.html/lyrics/rihanna/desperado.html'}, {'song_name': 'Woo', 'song_link': 'https://www.azlyrics.com/r/rihanna.html/lyrics/rihanna/woo.html'}, {'song_name': 'Needed Me', 'song_link': 'https://www.azlyrics.com/r/rihanna.html/lyrics/rihanna/neededme.html'}, {'song_name': 'Yeah, I Said It', 'song_link': 'https://www.azlyrics.com/r/rihanna.html/lyrics/rihanna/yeahisaidit.html'}, {'song_name': \"Same Ol' Mistakes\", 'song_link': 'https://www.azlyrics.com/r/rihanna.html/lyrics/rihanna/sameolmistakes.html'}, {'song_name': 'Never Ending', 'song_link': 'https://www.azlyrics.com/r/rihanna.html/lyrics/rihanna/neverending.html'}, {'song_name': 'Love On The Brain', 'song_link': 'https://www.azlyrics.com/r/rihanna.html/lyrics/rihanna/loveonthebrain.html'}, {'song_name': 'Higher', 'song_link': 'https://www.azlyrics.com/r/rihanna.html/lyrics/rihanna/higher.html'}, {'song_name': 'Close To You', 'song_link': 'https://www.azlyrics.com/r/rihanna.html/lyrics/rihanna/closetoyou.html'}, {'song_name': 'Goodnight Gotham', 'song_link': 'https://www.azlyrics.com/r/rihanna.html/lyrics/rihanna/goodnightgotham.html'}, {'song_name': 'Pose', 'song_link': 'https://www.azlyrics.com/r/rihanna.html/lyrics/rihanna/pose.html'}, {'song_name': 'Sex With Me', 'song_link': 'https://www.azlyrics.com/r/rihanna.html/lyrics/rihanna/sexwithme.html'}], 'other songs:': [{'song_name': 'American Oxygen', 'song_link': 'https://www.azlyrics.com/r/rihanna.html/lyrics/rihanna/americanoxygen.html'}, {'song_name': 'Answer', 'song_link': 'https://www.azlyrics.com/r/rihanna.html/lyrics/rihanna/answer.html'}, {'song_name': 'Believe It', 'song_link': 'https://www.azlyrics.com/r/rihanna.htmlhttps://www.azlyrics.com/lyrics/partynextdoor/believeit.html'}, {'song_name': 'Birthday Cake', 'song_link': 'https://www.azlyrics.com/r/rihanna.html/lyrics/rihanna/birthdaycake243359.html'}, {'song_name': 'Birthday Cake (Remix)', 'song_link': 'https://www.azlyrics.com/r/rihanna.html/lyrics/rihanna/birthdaycakeremix.html'}, {'song_name': 'Bitch Better Have My Money', 'song_link': 'https://www.azlyrics.com/r/rihanna.html/lyrics/rihanna/bitchbetterhavemymoney.html'}, {'song_name': \"Bitch I'm Special\", 'song_link': 'https://www.azlyrics.com/r/rihanna.html/lyrics/rihanna/bitchimspecial.html'}, {'song_name': 'Born Again', 'song_link': 'https://www.azlyrics.com/r/rihanna.html/lyrics/rihanna/bornagain.html'}, {'song_name': 'Bubble Pop', 'song_link': 'https://www.azlyrics.com/r/rihanna.html/lyrics/rihanna/bubblepop.html'}, {'song_name': 'Cockiness (Love It) (Remix)', 'song_link': 'https://www.azlyrics.com/r/rihanna.html/lyrics/rihanna/cockinessloveitremix.html'}, {'song_name': 'Diamonds (Remix)', 'song_link': 'https://www.azlyrics.com/r/rihanna.html/lyrics/rihanna/diamondsremix.html'}, {'song_name': 'Emergency Room', 'song_link': 'https://www.azlyrics.com/r/rihanna.html/lyrics/rihanna/emergencyroom.html'}, {'song_name': 'FourFiveSeconds', 'song_link': 'https://www.azlyrics.com/r/rihanna.html/lyrics/rihanna/fourfiveseconds.html'}, {'song_name': 'Goodbye', 'song_link': 'https://www.azlyrics.com/r/rihanna.html/lyrics/rihanna/goodbye.html'}, {'song_name': 'Happy', 'song_link': 'https://www.azlyrics.com/r/rihanna.html/lyrics/rihanna/happy.html'}, {'song_name': \"Hatin' On The Club\", 'song_link': 'https://www.azlyrics.com/r/rihanna.html/lyrics/rihanna/hatinontheclub.html'}, {'song_name': \"It Just Don't Feel Like Xmas (Without You)\", 'song_link': 'https://www.azlyrics.com/r/rihanna.html/lyrics/rihanna/itjustdontfeellikexmaswithoutyou.html'}, {'song_name': 'Kiss It Better (Kaytranada Remix)', 'song_link': 'https://www.azlyrics.com/r/rihanna.html/lyrics/rihanna/kissitbetterkaytranadaremix.html'}, {'song_name': 'Lemon', 'song_link': 'https://www.azlyrics.com/r/rihanna.htmlhttps://www.azlyrics.com/lyrics/nerd/lemon.html'}, {'song_name': 'Lift Me Up', 'song_link': 'https://www.azlyrics.com/r/rihanna.html/lyrics/rihanna/liftmeup.html'}, {'song_name': 'Lost In Paradise', 'song_link': 'https://www.azlyrics.com/r/rihanna.html/lyrics/rihanna/lostinparadise.html'}, {'song_name': 'Masquerade', 'song_link': 'https://www.azlyrics.com/r/rihanna.html/lyrics/rihanna/masquerade.html'}, {'song_name': 'Nothing Is Promised', 'song_link': 'https://www.azlyrics.com/r/rihanna.htmlhttps://www.azlyrics.com/lyrics/mikewillmadeit/nothingispromised.html'}, {'song_name': 'Pour It Up (Remix)', 'song_link': 'https://www.azlyrics.com/r/rihanna.html/lyrics/rihanna/pouritupremix.html'}, {'song_name': 'Put Dat On Bitch', 'song_link': 'https://www.azlyrics.com/r/rihanna.html/lyrics/rihanna/putdatonbitch.html'}, {'song_name': 'Put It Up', 'song_link': 'https://www.azlyrics.com/r/rihanna.html/lyrics/rihanna/putitup.html'}, {'song_name': 'Redemption Song', 'song_link': 'https://www.azlyrics.com/r/rihanna.html/lyrics/rihanna/redemptionsong.html'}, {'song_name': 'Rude Boy (J4R Remix)', 'song_link': 'https://www.azlyrics.com/r/rihanna.html/lyrics/rihanna/rudeboyj4rremix.html'}, {'song_name': 'Rude Boy (Remix)', 'song_link': 'https://www.azlyrics.com/r/rihanna.html/lyrics/rihanna/rudeboyremix.html'}, {'song_name': 'S&M (Britney Spears Remix)', 'song_link': 'https://www.azlyrics.com/r/rihanna.html/lyrics/rihanna/smbritneyspearsremix.html'}, {'song_name': 'S&M (J. Cole Remix)', 'song_link': 'https://www.azlyrics.com/r/rihanna.html/lyrics/rihanna/smjcoleremix.html'}, {'song_name': 'Sexuality', 'song_link': 'https://www.azlyrics.com/r/rihanna.html/lyrics/rihanna/sexuality.html'}, {'song_name': 'Sledgehammer', 'song_link': 'https://www.azlyrics.com/r/rihanna.html/lyrics/rihanna/sledgehammer.html'}, {'song_name': 'Slower To Heal', 'song_link': 'https://www.azlyrics.com/r/rihanna.html/lyrics/rihanna/slowertoheal.html'}, {'song_name': 'Stranded (Haiti Mon Amour)', 'song_link': 'https://www.azlyrics.com/r/rihanna.htmlhttps://www.azlyrics.com/lyrics/jayz/strandedhaitimonamour.html'}, {'song_name': 'Suicide', 'song_link': 'https://www.azlyrics.com/r/rihanna.html/lyrics/rihanna/suicide.html'}, {'song_name': 'Talk That Talk (Remix)', 'song_link': 'https://www.azlyrics.com/r/rihanna.html/lyrics/rihanna/talkthattalkremix.html'}, {'song_name': 'Tip Pon Toe', 'song_link': 'https://www.azlyrics.com/r/rihanna.html/lyrics/rihanna/tippontoe.html'}, {'song_name': 'Umbrella (Cinderella Remix)', 'song_link': 'https://www.azlyrics.com/r/rihanna.html/lyrics/rihanna/umbrellacinderellaremix.html'}, {'song_name': 'We Found Love', 'song_link': 'https://www.azlyrics.com/r/rihanna.html/lyrics/rihanna/wefoundlove-music-video.html'}, {'song_name': 'Whipping My Hair', 'song_link': 'https://www.azlyrics.com/r/rihanna.html/lyrics/rihanna/whippingmyhair.html'}, {'song_name': \"Who's That Chick\", 'song_link': 'https://www.azlyrics.com/r/rihanna.html/lyrics/rihanna/whosthatchick.html'}, {'song_name': 'Winning Women', 'song_link': 'https://www.azlyrics.com/r/rihanna.html/lyrics/rihanna/winningwomen.html'}, {'song_name': 'World Peace', 'song_link': 'https://www.azlyrics.com/r/rihanna.html/lyrics/rihanna/worldpeace.html'}]}}\n"
     ]
    }
   ],
   "source": [
    "# Example for \"Sam Smith\"\n",
    "url_to_scrape = 'https://www.azlyrics.com/r/rihanna.html'\n",
    "result_dataset = song_dataset(url_to_scrape)\n",
    "\n",
    "# Print the result or further processing\n",
    "print(result_dataset)"
   ]
  },
  {
   "cell_type": "markdown",
   "metadata": {
    "id": "RTFbGZ-ov62A"
   },
   "source": [
    "\n",
    "\n",
    "---\n",
    "\n",
    "## Writing the dataset into a CSV file"
   ]
  },
  {
   "cell_type": "code",
   "execution_count": 50,
   "metadata": {
    "id": "Ugh-sp-vwAgP"
   },
   "outputs": [],
   "source": [
    "import csv\n",
    "import os\n",
    "\n",
    "def write_csv(data, path):\n",
    "    # Check if the file already exists\n",
    "    file_exists = os.path.isfile(path)\n",
    "\n",
    "    with open(path, 'a', newline='', encoding='utf-8') as csvfile:\n",
    "        # Create a CSV writer\n",
    "        csv_writer = csv.writer(csvfile)\n",
    "\n",
    "        # If the file doesn't exist, write the header\n",
    "        if not file_exists:\n",
    "            csv_writer.writerow(['Artist Name', 'Album Name (Year)', 'Cover Image Link', 'Song Name', 'Link to Song'])\n",
    "\n",
    "        # Repeat artist_name for each row\n",
    "        artist_name = data['Artist Name']\n",
    "\n",
    "        # Iterate through each album\n",
    "        for album, songs_and_links in data['Song List and Url'].items():\n",
    "            # Repeat img_src for each row in the same album\n",
    "            img_src = data['Cover Image Link'][0]\n",
    "\n",
    "            # Iterate through each song in the album\n",
    "            for song_info in songs_and_links:\n",
    "                csv_writer.writerow([artist_name, album, img_src, song_info['song_name'], song_info['song_link']])\n"
   ]
  },
  {
   "cell_type": "markdown",
   "metadata": {
    "id": "LgpDoM2Nw-Fg"
   },
   "source": [
    "---\n",
    "\n",
    "### Calling and using the CSV writer function\n",
    "\n",
    "The `write_csv` function is coded such that it appends new artists, their albums, song names and links to the end of the previous dataset to create a gigantic dataset.\n",
    "\n",
    "An example is shown below using `Sam Smith` and `Rihanna's` page"
   ]
  },
  {
   "cell_type": "code",
   "execution_count": 51,
   "metadata": {
    "id": "nHTEs0WPw9eS"
   },
   "outputs": [],
   "source": [
    "# Example usage:\n",
    "url_to_scrape = 'https://www.azlyrics.com/s/samsmith.html'\n",
    "result_dataset = song_dataset(url_to_scrape)\n",
    "\n",
    "# Specifying the path where you want to save the CSV file\n",
    "csv_path = 'output_dataset.csv'\n",
    "\n",
    "# Calling the write_csv function to save the dataset to a CSV file\n",
    "write_csv(result_dataset, csv_path)\n"
   ]
  },
  {
   "cell_type": "code",
   "execution_count": 52,
   "metadata": {
    "id": "9wJUEGU66OzS"
   },
   "outputs": [],
   "source": [
    "# Example usage:\n",
    "url_to_scrape = 'https://www.azlyrics.com/r/rihanna.html'\n",
    "result_dataset = song_dataset(url_to_scrape)\n",
    "\n",
    "# Specifying the path where you want to save the CSV file\n",
    "csv_path = 'output_dataset.csv'\n",
    "\n",
    "# Calling the write_csv function to save the dataset to a CSV file\n",
    "write_csv(result_dataset, csv_path)\n"
   ]
  },
  {
   "cell_type": "markdown",
   "metadata": {
    "id": "ViA2bB60EMhJ"
   },
   "source": [
    "Testing the entire code and the `write_csv` function to see if it works... This time, we're outputting to `Output_dataset2.csv`"
   ]
  },
  {
   "cell_type": "markdown",
   "metadata": {
    "id": "Mi_l7awYE4yT"
   },
   "source": [
    "### For Beyonce"
   ]
  },
  {
   "cell_type": "code",
   "execution_count": 53,
   "metadata": {
    "id": "Ih9ysHtXEenK"
   },
   "outputs": [],
   "source": [
    "# Songs of Beyonce\n",
    "url_to_scrape = 'https://www.azlyrics.com/k/knowles.html'\n",
    "result_dataset = song_dataset(url_to_scrape)\n",
    "\n",
    "# Specifying the path where you want to save the CSV file\n",
    "csv_path = 'output_dataset2.csv'\n",
    "\n",
    "# Calling the write_csv function to save the dataset to a CSV file\n",
    "write_csv(result_dataset, csv_path)\n"
   ]
  },
  {
   "cell_type": "markdown",
   "metadata": {
    "id": "RgyywEgcE-f4"
   },
   "source": [
    "### For Cardi B\n",
    "\n",
    "To be outputed to the same csv file as Beyonce's"
   ]
  },
  {
   "cell_type": "code",
   "execution_count": 54,
   "metadata": {
    "id": "awBwb4gtFTo2"
   },
   "outputs": [],
   "source": [
    "# Songs of Cardi B\n",
    "url_to_scrape = 'https://www.azlyrics.com/c/cardi-b.html'\n",
    "result_dataset = song_dataset(url_to_scrape)\n",
    "\n",
    "# Specifying the path where you want to save the CSV file\n",
    "csv_path = 'output_dataset2.csv'\n",
    "\n",
    "# Calling the write_csv function to save the dataset to a CSV file\n",
    "write_csv(result_dataset, csv_path)"
   ]
  },
  {
   "cell_type": "markdown",
   "metadata": {
    "id": "zEvjeTb-F0ve"
   },
   "source": [
    "---\n",
    "\n",
    "This completes the project"
   ]
  }
 ],
 "metadata": {
  "colab": {
   "provenance": []
  },
  "kernelspec": {
   "display_name": "Python 3 (ipykernel)",
   "language": "python",
   "name": "python3"
  },
  "language_info": {
   "codemirror_mode": {
    "name": "ipython",
    "version": 3
   },
   "file_extension": ".py",
   "mimetype": "text/x-python",
   "name": "python",
   "nbconvert_exporter": "python",
   "pygments_lexer": "ipython3",
   "version": "3.11.5"
  }
 },
 "nbformat": 4,
 "nbformat_minor": 1
}
